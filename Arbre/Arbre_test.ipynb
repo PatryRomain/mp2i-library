{
 "cells": [
  {
   "cell_type": "code",
   "execution_count": 1,
   "id": "4e70e77c-f2b3-462d-982a-72f37b93191b",
   "metadata": {},
   "outputs": [
    {
     "name": "stdout",
     "output_type": "stream",
     "text": [
      "type arbre_bin_int =\n",
      "    Feuille of int\n",
      "  | Branche of arbre_bin_int * arbre_bin_int\n",
      "val feuille_droite : arbre_bin_int -> int = <fun>\n",
      "val del_feuille_droite : arbre_bin_int -> arbre_bin_int = <fun>\n",
      "val feuille_gauche : arbre_bin_int -> int = <fun>\n",
      "val del_feuille_gauche : arbre_bin_int -> arbre_bin_int = <fun>\n",
      "val ajout_feuille : int -> arbre_bin_int -> arbre_bin_int = <fun>\n",
      "val tri : arbre_bin_int -> arbre_bin_int = <fun>\n",
      "val plus_lointaine_feuille : arbre_bin_int -> int = <fun>\n",
      "val equilibrage : arbre_bin_int -> arbre_bin_int = <fun>\n"
     ]
    }
   ],
   "source": [
    "# use \"Arbre.ml\""
   ]
  },
  {
   "cell_type": "code",
   "execution_count": 2,
   "id": "4ea233d4-2947-45cd-8aa6-9c61f3a9d618",
   "metadata": {},
   "outputs": [
    {
     "data": {
      "text/plain": [
       "val a_ex : arbre_bin_int = Branche (Feuille 1, Feuille 2)\n"
      ]
     },
     "execution_count": 2,
     "metadata": {},
     "output_type": "execute_result"
    }
   ],
   "source": [
    "let a_ex = Branche (Feuille 1, Feuille 2)"
   ]
  },
  {
   "cell_type": "code",
   "execution_count": 3,
   "id": "0c2402e3-f663-41fd-87c6-6ddd0350882a",
   "metadata": {},
   "outputs": [
    {
     "data": {
      "text/plain": [
       "- : int = 2\n"
      ]
     },
     "execution_count": 3,
     "metadata": {},
     "output_type": "execute_result"
    },
    {
     "data": {
      "text/plain": [
       "- : int = 1\n"
      ]
     },
     "execution_count": 3,
     "metadata": {},
     "output_type": "execute_result"
    }
   ],
   "source": [
    "feuille_droite a_ex ;;\n",
    "feuille_gauche a_ex "
   ]
  },
  {
   "cell_type": "code",
   "execution_count": 4,
   "id": "a67d6c11-4119-4350-9bd2-90657bc3e9c9",
   "metadata": {},
   "outputs": [
    {
     "data": {
      "text/plain": [
       "- : arbre_bin_int = Feuille 1\n"
      ]
     },
     "execution_count": 4,
     "metadata": {},
     "output_type": "execute_result"
    },
    {
     "data": {
      "text/plain": [
       "- : arbre_bin_int = Feuille 2\n"
      ]
     },
     "execution_count": 4,
     "metadata": {},
     "output_type": "execute_result"
    }
   ],
   "source": [
    "del_feuille_droite a_ex ;;\n",
    "del_feuille_gauche a_ex"
   ]
  },
  {
   "cell_type": "code",
   "execution_count": 5,
   "id": "ba835d76-3333-42fc-a193-55c31bf091ae",
   "metadata": {},
   "outputs": [
    {
     "data": {
      "text/plain": [
       "- : arbre_bin_int = Branche (Feuille 1, Branche (Feuille 2, Feuille 6))\n"
      ]
     },
     "execution_count": 5,
     "metadata": {},
     "output_type": "execute_result"
    }
   ],
   "source": [
    "ajout_feuille 6 a_ex"
   ]
  },
  {
   "cell_type": "code",
   "execution_count": 6,
   "id": "279e9c7b-9bf9-4a1b-beef-754dfb1e29ab",
   "metadata": {},
   "outputs": [
    {
     "data": {
      "text/plain": [
       "- : arbre_bin_int =\n",
       "Branche (Branche (Feuille 2, Feuille 3), Branche (Feuille 4, Feuille 6))\n"
      ]
     },
     "execution_count": 6,
     "metadata": {},
     "output_type": "execute_result"
    }
   ],
   "source": [
    "tri (Branche (Branche (Feuille 6, Feuille 3), Branche (Feuille 4, Feuille 2)))"
   ]
  },
  {
   "cell_type": "code",
   "execution_count": 8,
   "id": "3811bbfc-df86-4d54-8288-a07b3cf6cf69",
   "metadata": {},
   "outputs": [
    {
     "data": {
      "text/plain": [
       "- : int = 2\n"
      ]
     },
     "execution_count": 8,
     "metadata": {},
     "output_type": "execute_result"
    }
   ],
   "source": [
    "plus_lointaine_feuille (ajout_feuille 3 a_ex)"
   ]
  },
  {
   "cell_type": "code",
   "execution_count": 9,
   "id": "98e8c568-3c38-4764-9651-00845a25dedf",
   "metadata": {},
   "outputs": [
    {
     "data": {
      "text/plain": [
       "val a_ex2 : arbre_bin_int =\n",
       "  Branche (Feuille 1, Branche (Branche (Feuille 2, Feuille 3), Feuille 4))\n"
      ]
     },
     "execution_count": 9,
     "metadata": {},
     "output_type": "execute_result"
    }
   ],
   "source": [
    "let a_ex2 = Branche ( Feuille 1, Branche ( Branche ( Feuille 2, Feuille 3), Feuille 4))"
   ]
  },
  {
   "cell_type": "code",
   "execution_count": 10,
   "id": "39e2b60f-5f8c-4bfb-a192-63e4e73bd4bd",
   "metadata": {},
   "outputs": [
    {
     "data": {
      "text/plain": [
       "- : arbre_bin_int =\n",
       "Branche (Branche (Feuille 1, Feuille 2), Branche (Feuille 3, Feuille 4))\n"
      ]
     },
     "execution_count": 10,
     "metadata": {},
     "output_type": "execute_result"
    }
   ],
   "source": [
    "equilibrage a_ex2"
   ]
  },
  {
   "cell_type": "code",
   "execution_count": null,
   "id": "eb057648-ee4d-4807-879b-1566fb97a3a1",
   "metadata": {},
   "outputs": [],
   "source": []
  }
 ],
 "metadata": {
  "kernelspec": {
   "display_name": "OCaml default",
   "language": "OCaml",
   "name": "ocaml-jupyter"
  },
  "language_info": {
   "codemirror_mode": "text/x-ocaml",
   "file_extension": ".ml",
   "mimetype": "text/x-ocaml",
   "name": "OCaml",
   "nbconverter_exporter": null,
   "pygments_lexer": "OCaml",
   "version": "4.08.1"
  }
 },
 "nbformat": 4,
 "nbformat_minor": 5
}
